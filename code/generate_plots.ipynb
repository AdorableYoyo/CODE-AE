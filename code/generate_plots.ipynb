{
 "cells": [
  {
   "cell_type": "code",
   "execution_count": 2,
   "metadata": {},
   "outputs": [],
   "source": [
    "from parsing_utils import *"
   ]
  },
  {
   "cell_type": "markdown",
   "metadata": {},
   "source": [
    "# Drug resistance classification"
   ]
  },
  {
   "cell_type": "code",
   "execution_count": null,
   "metadata": {},
   "outputs": [],
   "source": [
    "drug_auc_ft_report, drug_auc_ft_report_std, drug_auc_ft_result_dict = generate_hyper_ft_report(metric_name='auroc', measurement='AUC')"
   ]
  },
  {
   "cell_type": "code",
   "execution_count": null,
   "metadata": {},
   "outputs": [],
   "source": [
    "import pandas as pd\n",
    "import numpy as np\n",
    "import data_config\n",
    "import data\n",
    "import ml_baseline\n",
    "\n"
   ]
  },
  {
   "cell_type": "code",
   "execution_count": null,
   "metadata": {},
   "outputs": [],
   "source": [
    "gex_features_df = pd.read_csv(data_config.gex_feature_file, index_col=0)\n",
    "\n",
    "drugs = ['gem', 'fu', 'cis', 'tem']\n",
    "metric = 'auroc'\n",
    "\n",
    "auc_drug_dict = {\n",
    "    'gem':0.8,\n",
    "    'fu':0.65,\n",
    "    'cis':0.95,\n",
    "    'tem':0.9\n",
    "}\n",
    "\n",
    "enet_auc_result_dict = dict()"
   ]
  },
  {
   "cell_type": "code",
   "execution_count": null,
   "metadata": {},
   "outputs": [],
   "source": [
    "for drug in drugs:\n",
    "    print(f\"{drug}\")\n",
    "    labeled_ccle_dataloader, labeled_tcga_dataloader = data.get_labeled_dataloaders(\n",
    "            gex_features_df=gex_features_df,\n",
    "            seed=2020,\n",
    "            batch_size=64,\n",
    "            drug=drug,\n",
    "            threshold=auc_drug_dict[drug],\n",
    "            ft_flag=False,\n",
    "            ccle_measurement='AUC'\n",
    "        )\n",
    "    metric_result_list = ml_baseline.n_time_cv(\n",
    "        model_fn=ml_baseline.classify_with_enet,\n",
    "        n=10,\n",
    "        train_data=(\n",
    "                labeled_ccle_dataloader.dataset.tensors[0].numpy(),\n",
    "                labeled_ccle_dataloader.dataset.tensors[1].numpy()\n",
    "        ),\n",
    "        test_data=(\n",
    "                labeled_tcga_dataloader.dataset.tensors[0].numpy(),\n",
    "                labeled_tcga_dataloader.dataset.tensors[1].numpy()\n",
    "        ),\n",
    "            metric=metric\n",
    "        )[1][metric]\n",
    "    enet_auc_result_dict[drug] = metric_result_list\n",
    "\n",
    "\n",
    "\n"
   ]
  },
  {
   "cell_type": "code",
   "execution_count": null,
   "metadata": {},
   "outputs": [],
   "source": [
    "for drug in drugs:\n",
    "    drug_auc_ft_report[drug]['en'] = enet_auc_result_dict[drug]\n"
   ]
  },
  {
   "cell_type": "code",
   "execution_count": null,
   "metadata": {},
   "outputs": [],
   "source": [
    "indicator_result_df = None\n",
    "drug_dict = {'gem': 'Gemcitabine', 'fu': 'Fluorouracil', 'cis': 'Cisplatin', 'tem': 'Temozolomide'}\n",
    "for cat in ['gem', 'fu']:\n",
    "    temp_df = pd.DataFrame.from_dict(drug_auc_ft_report[cat])\n",
    "    temp_df = temp_df.rename(columns={'dsn':\"dsn-mmd\", 'dsnw': 'dsn-adv', 'code_base': 'code-ae-base', 'code_mmd':'code-ae-mmd', 'code_adv': 'code-ae-adv'})\n",
    "    temp_df = temp_df.rename(columns={k: k.upper() for k in temp_df.columns})\n",
    "\n",
    "    temp_df = pd.melt(temp_df)\n",
    "    temp_df['drug'] = drug_dict[cat]\n",
    "    temp_df['metric'] = 'AUC'\n",
    "    indicator_result_df = pd.concat((indicator_result_df, temp_df))\n",
    "    \n",
    "indicator_result_df = indicator_result_df.rename(columns={'variable': 'method', 'value': 'auroc'})\n",
    "method_order = ['EN', 'MLP', 'AE','DAE','VAE', 'CORAL','ADAE', 'DSN-MMD','DSN-ADV', 'CODE-AE-BASE', 'CODE-AE-MMD','CODE-AE-ADV']\n",
    "indicator_result_df.method = indicator_result_df.method.astype('category')\n",
    "indicator_result_df.method.cat.set_categories(method_order, inplace=True)\n",
    "indicator_result_df.sort_values(by='method', inplace=True)"
   ]
  },
  {
   "cell_type": "code",
   "execution_count": null,
   "metadata": {},
   "outputs": [],
   "source": [
    "days_result_df = None\n",
    "drug_dict = {'gem': 'Gemcitabine', 'fu': 'Fluorouracil', 'cis': 'Cisplatin', 'tem': 'Temozolomide'}\n",
    "for cat in ['cis', 'tem']:\n",
    "    temp_df = pd.DataFrame.from_dict(drug_auc_ft_report[cat])\n",
    "    temp_df = temp_df.rename(columns={'dsn':\"dsn-mmd\", 'dsnw': 'dsn-adv', 'code_base': 'code-ae-base', 'code_mmd':'code-ae-mmd', 'code_adv': 'code-ae-adv'})\n",
    "    temp_df = temp_df.rename(columns={k: k.upper() for k in temp_df.columns})\n",
    "\n",
    "    temp_df = pd.melt(temp_df)\n",
    "    temp_df['drug'] = drug_dict[cat]\n",
    "    temp_df['metric'] = 'AUC'\n",
    "    days_result_df = pd.concat((days_result_df, temp_df))\n",
    "    \n",
    "days_result_df = days_result_df.rename(columns={'variable': 'method', 'value': 'auroc'})\n",
    "method_order = ['EN', 'MLP', 'AE','DAE','VAE', 'CORAL','ADAE', 'DSN-MMD','DSN-ADV', 'CODE-AE-BASE', 'CODE-AE-MMD','CODE-AE-ADV']\n",
    "days_result_df.method = days_result_df.method.astype('category')\n",
    "days_result_df.method.cat.set_categories(method_order, inplace=True)\n",
    "days_result_df.sort_values(by='method', inplace=True)"
   ]
  },
  {
   "cell_type": "code",
   "execution_count": null,
   "metadata": {},
   "outputs": [],
   "source": [
    "import itertools\n",
    "import seaborn as sns\n",
    "import matplotlib.pyplot as plt\n",
    "sns.set(rc={'figure.figsize':(15,10)})\n",
    "sns.set(font_scale=1.5)\n",
    "sns.set_theme(style=\"white\")\n"
   ]
  },
  {
   "cell_type": "code",
   "execution_count": null,
   "metadata": {},
   "outputs": [],
   "source": [
    "palette ={\n",
    "    'EN':'purple', \n",
    "    'MLP':'purple', \n",
    "    'AE':'lightgreen',\n",
    "    'DAE':'lightgreen',\n",
    "    'VAE':'lightgreen', \n",
    "    'CORAL':'orange',\n",
    "    'ADAE':'blue', \n",
    "    'DSN-MMD':'red',\n",
    "    'DSN-ADV':'red', \n",
    "    'CODE-AE-BASE':'yellow', \n",
    "    'CODE-AE-MMD':'yellow',\n",
    "    'CODE-AE-ADV':'yellow'}"
   ]
  },
  {
   "cell_type": "code",
   "execution_count": null,
   "metadata": {},
   "outputs": [],
   "source": [
    "ax = sns.barplot(x='drug', y='auroc',hue='method', data=indicator_result_df.loc[result_df.metric=='AUC'], palette=palette)\n",
    "hatches = itertools.cycle(['','+','/'])\n",
    "for i, bar in enumerate(ax.patches):\n",
    "    if i % 2 == 0:\n",
    "        hatch = next(hatches)\n",
    "    bar.set_hatch(hatch)\n",
    "    \n",
    "plt.ylim(0.4,0.85)\n",
    "plt.xlabel('')\n",
    "plt.ylabel('AUROC', fontsize=15, weight='bold')\n",
    "plt.xticks(fontsize=18,weight='bold')\n",
    "plt.yticks(fontsize=15)\n",
    "plt.legend(loc='upper right', bbox_to_anchor=(1.2, 1.01), fontsize=14)\n",
    "#plt.savefig('../paper/tcga_auc_bar.png', format='png', dpi=350,bbox_inches='tight')"
   ]
  },
  {
   "cell_type": "code",
   "execution_count": null,
   "metadata": {},
   "outputs": [],
   "source": [
    "ax = sns.barplot(x='drug', y='auroc',hue='method', data=days_result_df.loc[result_df.metric=='AUC'], palette=palette)\n",
    "hatches = itertools.cycle(['','+','/'])\n",
    "for i, bar in enumerate(ax.patches):\n",
    "    if i % 2 == 0:\n",
    "        hatch = next(hatches)\n",
    "    bar.set_hatch(hatch)\n",
    "    \n",
    "plt.ylim(0.4,0.85)\n",
    "plt.xlabel('')\n",
    "plt.ylabel('AUROC', fontsize=15, weight='bold')\n",
    "plt.xticks(fontsize=18,weight='bold')\n",
    "plt.yticks(fontsize=15)\n",
    "plt.legend(loc='upper right', bbox_to_anchor=(1.2, 1.01), fontsize=14)\n",
    "#plt.savefig('../paper/cis_auc_bar.png', format='png', dpi=350,bbox_inches='tight')"
   ]
  },
  {
   "cell_type": "code",
   "execution_count": null,
   "metadata": {},
   "outputs": [],
   "source": []
  },
  {
   "cell_type": "code",
   "execution_count": null,
   "metadata": {},
   "outputs": [],
   "source": [
    "from scipy.stats import ttest_ind, ttest_ind_from_stats\n",
    "def generate_p_val(a, b):\n",
    "    t, p = ttest_ind(a, b, equal_var=False)\n",
    "    print(\"ttest_ind:            t = %g  p = %g\" % (t, p))\n",
    "    \n",
    "def generate_p_val2(a_mu, a_std, b_mu, b_std, a_n=10, b_n=10):\n",
    "    t, p = ttest_ind_from_stats(a_mu, a_std, a_n,\n",
    "                              b_mu, b_std, b_n,\n",
    "                              equal_var=False)\n",
    "    print(\"ttest_ind_from_stats: t = %g  p = %g\" % (t, p))"
   ]
  },
  {
   "cell_type": "code",
   "execution_count": null,
   "metadata": {},
   "outputs": [],
   "source": [
    "# generate_p_val(a=auc_ft_result_dict['gem']['adsn'], b=auc_ft_result_dict['gem']['dsnw'])\n",
    "\n",
    "# generate_p_val(a=auc_ft_result_dict['fu']['adsn'], b=auc_ft_result_dict['fu']['vae'])\n",
    "\n",
    "# generate_p_val(a=auc_ft_result_dict['cis']['adsn'], b=auc_ft_result_dict['cis']['dsnw'])\n",
    "\n",
    "# generate_p_val(a=auc_ft_result_dict['tem']['dsnw'], b=auc_ft_result_dict['tem']['adae'])"
   ]
  },
  {
   "cell_type": "code",
   "execution_count": null,
   "metadata": {},
   "outputs": [],
   "source": [
    "# generate_p_val2(a_mu=0.931891, a_std=0.001785, b_mu=0.903831, b_std=0.008108)\n",
    "\n",
    "# generate_p_val2(a_mu=0.940007, a_std=0.007376, b_mu=0.944379, b_std=0.005745)\n",
    "\n",
    "# generate_p_val2(a_mu=0.973023, a_std=0.000666, b_mu=0.962145, b_std=0.007951)\n",
    "\n",
    "# generate_p_val2(a_mu=0.983963, a_std=0.003298, b_mu=0.986240, b_std=0.002010)"
   ]
  },
  {
   "cell_type": "code",
   "execution_count": null,
   "metadata": {},
   "outputs": [],
   "source": []
  },
  {
   "cell_type": "markdown",
   "metadata": {},
   "source": [
    "# Deconfounded representation transferability"
   ]
  },
  {
   "cell_type": "code",
   "execution_count": null,
   "metadata": {},
   "outputs": [],
   "source": [
    "de_auroc_ml_report, de_auroc_ml_report_std, _ = generate_hyper_ml_report(metric_name='auroc', measurement='AUC')"
   ]
  },
  {
   "cell_type": "code",
   "execution_count": null,
   "metadata": {},
   "outputs": [],
   "source": [
    "de_auprc_ml_report, de_auprc_ml_report_std, _ = generate_hyper_ml_report(metric_name='auprc', measurement='AUC')"
   ]
  },
  {
   "cell_type": "code",
   "execution_count": null,
   "metadata": {},
   "outputs": [],
   "source": []
  },
  {
   "cell_type": "code",
   "execution_count": null,
   "metadata": {},
   "outputs": [],
   "source": []
  },
  {
   "cell_type": "code",
   "execution_count": null,
   "metadata": {},
   "outputs": [],
   "source": []
  },
  {
   "cell_type": "code",
   "execution_count": null,
   "metadata": {},
   "outputs": [],
   "source": []
  },
  {
   "cell_type": "code",
   "execution_count": null,
   "metadata": {},
   "outputs": [],
   "source": []
  },
  {
   "cell_type": "code",
   "execution_count": null,
   "metadata": {},
   "outputs": [],
   "source": []
  },
  {
   "cell_type": "code",
   "execution_count": null,
   "metadata": {},
   "outputs": [],
   "source": []
  },
  {
   "cell_type": "code",
   "execution_count": null,
   "metadata": {},
   "outputs": [],
   "source": []
  },
  {
   "cell_type": "code",
   "execution_count": null,
   "metadata": {},
   "outputs": [],
   "source": []
  },
  {
   "cell_type": "code",
   "execution_count": null,
   "metadata": {},
   "outputs": [],
   "source": []
  },
  {
   "cell_type": "code",
   "execution_count": null,
   "metadata": {},
   "outputs": [],
   "source": []
  },
  {
   "cell_type": "code",
   "execution_count": null,
   "metadata": {},
   "outputs": [],
   "source": []
  },
  {
   "cell_type": "code",
   "execution_count": 401,
   "metadata": {},
   "outputs": [],
   "source": []
  },
  {
   "cell_type": "code",
   "execution_count": null,
   "metadata": {},
   "outputs": [],
   "source": []
  },
  {
   "cell_type": "code",
   "execution_count": 441,
   "metadata": {},
   "outputs": [],
   "source": []
  },
  {
   "cell_type": "code",
   "execution_count": null,
   "metadata": {},
   "outputs": [],
   "source": []
  },
  {
   "cell_type": "code",
   "execution_count": 443,
   "metadata": {},
   "outputs": [],
   "source": []
  },
  {
   "cell_type": "code",
   "execution_count": 444,
   "metadata": {},
   "outputs": [],
   "source": []
  },
  {
   "cell_type": "code",
   "execution_count": 445,
   "metadata": {},
   "outputs": [],
   "source": []
  },
  {
   "cell_type": "code",
   "execution_count": null,
   "metadata": {},
   "outputs": [],
   "source": []
  },
  {
   "cell_type": "code",
   "execution_count": null,
   "metadata": {},
   "outputs": [],
   "source": []
  },
  {
   "cell_type": "code",
   "execution_count": null,
   "metadata": {},
   "outputs": [],
   "source": []
  },
  {
   "cell_type": "code",
   "execution_count": null,
   "metadata": {},
   "outputs": [],
   "source": []
  },
  {
   "cell_type": "code",
   "execution_count": null,
   "metadata": {},
   "outputs": [],
   "source": []
  },
  {
   "cell_type": "code",
   "execution_count": null,
   "metadata": {},
   "outputs": [],
   "source": []
  },
  {
   "cell_type": "code",
   "execution_count": null,
   "metadata": {},
   "outputs": [],
   "source": []
  },
  {
   "cell_type": "code",
   "execution_count": null,
   "metadata": {},
   "outputs": [],
   "source": []
  },
  {
   "cell_type": "code",
   "execution_count": null,
   "metadata": {},
   "outputs": [],
   "source": []
  },
  {
   "cell_type": "code",
   "execution_count": 448,
   "metadata": {},
   "outputs": [],
   "source": []
  },
  {
   "cell_type": "code",
   "execution_count": null,
   "metadata": {},
   "outputs": [],
   "source": []
  },
  {
   "cell_type": "code",
   "execution_count": null,
   "metadata": {},
   "outputs": [],
   "source": []
  },
  {
   "cell_type": "code",
   "execution_count": null,
   "metadata": {},
   "outputs": [],
   "source": []
  },
  {
   "cell_type": "code",
   "execution_count": null,
   "metadata": {},
   "outputs": [],
   "source": []
  },
  {
   "cell_type": "code",
   "execution_count": null,
   "metadata": {},
   "outputs": [],
   "source": []
  },
  {
   "cell_type": "code",
   "execution_count": null,
   "metadata": {},
   "outputs": [],
   "source": []
  },
  {
   "cell_type": "code",
   "execution_count": null,
   "metadata": {},
   "outputs": [],
   "source": []
  },
  {
   "cell_type": "code",
   "execution_count": null,
   "metadata": {},
   "outputs": [],
   "source": []
  },
  {
   "cell_type": "code",
   "execution_count": null,
   "metadata": {},
   "outputs": [],
   "source": []
  },
  {
   "cell_type": "code",
   "execution_count": null,
   "metadata": {},
   "outputs": [],
   "source": []
  },
  {
   "cell_type": "code",
   "execution_count": null,
   "metadata": {},
   "outputs": [],
   "source": []
  },
  {
   "cell_type": "code",
   "execution_count": null,
   "metadata": {},
   "outputs": [],
   "source": []
  },
  {
   "cell_type": "code",
   "execution_count": null,
   "metadata": {},
   "outputs": [],
   "source": []
  },
  {
   "cell_type": "code",
   "execution_count": null,
   "metadata": {},
   "outputs": [],
   "source": [
    "\n"
   ]
  },
  {
   "cell_type": "code",
   "execution_count": null,
   "metadata": {},
   "outputs": [],
   "source": []
  },
  {
   "cell_type": "code",
   "execution_count": null,
   "metadata": {},
   "outputs": [],
   "source": []
  },
  {
   "cell_type": "code",
   "execution_count": null,
   "metadata": {},
   "outputs": [],
   "source": []
  },
  {
   "cell_type": "code",
   "execution_count": 368,
   "metadata": {},
   "outputs": [],
   "source": []
  },
  {
   "cell_type": "code",
   "execution_count": 372,
   "metadata": {},
   "outputs": [],
   "source": []
  },
  {
   "cell_type": "code",
   "execution_count": 388,
   "metadata": {},
   "outputs": [],
   "source": []
  },
  {
   "cell_type": "code",
   "execution_count": null,
   "metadata": {},
   "outputs": [],
   "source": []
  },
  {
   "cell_type": "code",
   "execution_count": null,
   "metadata": {},
   "outputs": [],
   "source": []
  },
  {
   "cell_type": "code",
   "execution_count": 389,
   "metadata": {},
   "outputs": [],
   "source": []
  },
  {
   "cell_type": "code",
   "execution_count": null,
   "metadata": {},
   "outputs": [],
   "source": []
  }
 ],
 "metadata": {
  "kernelspec": {
   "display_name": "Python 3",
   "language": "python",
   "name": "python3"
  },
  "language_info": {
   "codemirror_mode": {
    "name": "ipython",
    "version": 3
   },
   "file_extension": ".py",
   "mimetype": "text/x-python",
   "name": "python",
   "nbconvert_exporter": "python",
   "pygments_lexer": "ipython3",
   "version": "3.8.5"
  }
 },
 "nbformat": 4,
 "nbformat_minor": 4
}
